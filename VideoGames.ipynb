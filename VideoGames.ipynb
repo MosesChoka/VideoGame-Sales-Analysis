{
 "cells": [
  {
   "cell_type": "markdown",
   "metadata": {},
   "source": [
    "My Notebook"
   ]
  },
  {
   "cell_type": "code",
   "execution_count": 1,
   "metadata": {},
   "outputs": [],
   "source": [
    "# Importing all the relevant libraries for my analysis\n",
    "import pandas as pd\n",
    "import matplotlib.pyplot as plt\n",
    "import numpy as np"
   ]
  },
  {
   "cell_type": "markdown",
   "metadata": {},
   "source": [
    "Importing my Dataset"
   ]
  },
  {
   "cell_type": "code",
   "execution_count": 4,
   "metadata": {},
   "outputs": [
    {
     "name": "stdout",
     "output_type": "stream",
     "text": [
      "     Rank                      Name Platform  Year         Genre  \\\n",
      "0       1                Wii Sports      Wii  2006        Sports   \n",
      "1       2         Super Mario Bros.      NES  1985      Platform   \n",
      "2       3            Mario Kart Wii      Wii  2008        Racing   \n",
      "3       4         Wii Sports Resort      Wii  2009        Sports   \n",
      "4       5  Pokemon Red/Pokemon Blue       GB  1996  Role-Playing   \n",
      "..    ...                       ...      ...   ...           ...   \n",
      "194   220                   FIFA 15      PS3  2014        Sports   \n",
      "195   221         Crash Team Racing       PS  1999        Racing   \n",
      "196   222                   FIFA 17      PS4  2016        Sports   \n",
      "197   223       Batman: Arkham City     X360  2011        Action   \n",
      "198   224                  Driver 2       PS  2000        Action   \n",
      "\n",
      "                                  Publisher  NorthAmerica_Sales  \\\n",
      "0                                  Nintendo               41.49   \n",
      "1                                  Nintendo               29.08   \n",
      "2                                  Nintendo                 NaN   \n",
      "3                                  Nintendo               15.75   \n",
      "4                                  Nintendo               11.27   \n",
      "..                                      ...                 ...   \n",
      "194                         Electronic Arts                0.57   \n",
      "195             Sony Computer Entertainment                2.57   \n",
      "196                         Electronic Arts                0.28   \n",
      "197  Warner Bros. Interactive Entertainment                2.99   \n",
      "198                                     NaN                2.36   \n",
      "\n",
      "     EurpeanUnion_Sales  Japan_Sales  Other_Sales  Global_Sales  \n",
      "0                 29.02         3.77         8.46         82.74  \n",
      "1                  3.58         6.81         0.77         40.24  \n",
      "2                 12.88         3.79          NaN         35.82  \n",
      "3                 11.01          NaN         2.96         33.00  \n",
      "4                  8.89        10.22         1.00         31.37  \n",
      "..                  ...          ...          ...           ...  \n",
      "194                3.14         0.04         1.07          4.82  \n",
      "195                1.57         0.44         0.21          4.79  \n",
      "196                3.75         0.06         0.69          4.77  \n",
      "197                1.31         0.04         0.41          4.76  \n",
      "198                2.10         0.02         0.25           NaN  \n",
      "\n",
      "[199 rows x 11 columns]\n"
     ]
    }
   ],
   "source": [
    "VideoGames=pd.read_csv(\"VideoGameSales.csv\")\n",
    "print(VideoGames)"
   ]
  },
  {
   "cell_type": "markdown",
   "metadata": {},
   "source": [
    "\n",
    "Show the number of rows and columns in my dataset"
   ]
  },
  {
   "cell_type": "code",
   "execution_count": 5,
   "metadata": {},
   "outputs": [
    {
     "name": "stdout",
     "output_type": "stream",
     "text": [
      "199\n",
      "11\n"
     ]
    }
   ],
   "source": [
    "rows=VideoGames.shape[0]\n",
    "columns=VideoGames.shape[1]\n",
    "print(rows)\n",
    "print(columns)"
   ]
  },
  {
   "cell_type": "markdown",
   "metadata": {},
   "source": [
    "\n",
    "Dataset column names"
   ]
  },
  {
   "cell_type": "code",
   "execution_count": 6,
   "metadata": {},
   "outputs": [
    {
     "name": "stdout",
     "output_type": "stream",
     "text": [
      "['Rank', 'Name', 'Platform', 'Year', 'Genre', 'Publisher', 'NorthAmerica_Sales', 'EurpeanUnion_Sales', 'Japan_Sales', 'Other_Sales', 'Global_Sales']\n"
     ]
    }
   ],
   "source": [
    "colnames=list(VideoGames)\n",
    "print(colnames)"
   ]
  },
  {
   "cell_type": "markdown",
   "metadata": {},
   "source": [
    "Show the data types in my dataset"
   ]
  },
  {
   "cell_type": "code",
   "execution_count": 7,
   "metadata": {},
   "outputs": [
    {
     "name": "stdout",
     "output_type": "stream",
     "text": [
      "<class 'pandas.core.frame.DataFrame'>\n",
      "RangeIndex: 199 entries, 0 to 198\n",
      "Data columns (total 11 columns):\n",
      " #   Column              Non-Null Count  Dtype  \n",
      "---  ------              --------------  -----  \n",
      " 0   Rank                199 non-null    int64  \n",
      " 1   Name                199 non-null    object \n",
      " 2   Platform            199 non-null    object \n",
      " 3   Year                199 non-null    int64  \n",
      " 4   Genre               199 non-null    object \n",
      " 5   Publisher           198 non-null    object \n",
      " 6   NorthAmerica_Sales  185 non-null    float64\n",
      " 7   EurpeanUnion_Sales  190 non-null    float64\n",
      " 8   Japan_Sales         189 non-null    float64\n",
      " 9   Other_Sales         192 non-null    float64\n",
      " 10  Global_Sales        187 non-null    float64\n",
      "dtypes: float64(5), int64(2), object(4)\n",
      "memory usage: 17.2+ KB\n",
      "None\n"
     ]
    }
   ],
   "source": [
    "print(VideoGames.info())"
   ]
  },
  {
   "cell_type": "markdown",
   "metadata": {},
   "source": [
    "\n",
    "Column description\n",
    "\n",
    "Rank => Rank of the game\n",
    "\n",
    "Name => Name of the game\n",
    "\n",
    "Platform => Platform on which the game can run\n",
    "\n",
    "Year => Release year\n",
    "\n",
    "Genre => Genre of game\n",
    "\n",
    "Publisher => Publishing company\n",
    "\n",
    "NorthAmerica_Sales => Sales in North America\n",
    "\n",
    "EurpeanUnion_Sales => Sales in European Union\n",
    "\n",
    "Japan_Sales => Sales in Japan\n",
    "\n",
    "Other_Sales => Sales in other countries\n",
    "\n",
    "Global_Sales => Total Global sales"
   ]
  },
  {
   "cell_type": "markdown",
   "metadata": {},
   "source": [
    "\n",
    "Data types (Quantitative/Categorical)\n",
    "\n",
    "Year => Quantitative\n",
    "\n",
    "Genre => Categorical\n",
    "\n",
    "Publisher => Categorical\n",
    "\n",
    "NorthAmerica_Sales => Quantitative\n",
    "\n",
    "EurpeanUnion_Sales => Quantitative\n",
    "\n",
    "Japan_Sales => Quantitative\n",
    "\n",
    "Other_Sales => Quantitative\n",
    "\n",
    "Global_Sales => Quantitative"
   ]
  },
  {
   "cell_type": "markdown",
   "metadata": {},
   "source": [
    "\n",
    "Frequency Distribution, Relative Frequency, and Percentage Frequency"
   ]
  },
  {
   "cell_type": "code",
   "execution_count": 11,
   "metadata": {},
   "outputs": [
    {
     "name": "stdout",
     "output_type": "stream",
     "text": [
      "(56.75, 112.5]     53\n",
      "(0.776, 56.75]     51\n",
      "(112.5, 168.25]    49\n",
      "(168.25, 224.0]    46\n",
      "Name: Rank, dtype: int64\n",
      "(2007.5, 2016.0]      99\n",
      "(1999.0, 2007.5]      48\n",
      "(1990.5, 1999.0]      40\n",
      "(1981.965, 1990.5]    12\n",
      "Name: Year, dtype: int64\n",
      "(-0.0425, 10.372]    174\n",
      "(10.372, 20.745]       7\n",
      "(20.745, 31.118]       3\n",
      "(31.118, 41.49]        1\n",
      "Name: NorthAmerica_Sales, dtype: int64\n",
      "(-0.030000000000000002, 7.255]    178\n",
      "(7.255, 14.51]                     11\n",
      "(21.765, 29.02]                     1\n",
      "(14.51, 21.765]                     0\n",
      "Name: EurpeanUnion_Sales, dtype: int64\n",
      "(-0.011200000000000002, 2.555]    152\n",
      "(2.555, 5.11]                      28\n",
      "(5.11, 7.665]                       8\n",
      "(7.665, 10.22]                      1\n",
      "Name: Japan_Sales, dtype: int64\n",
      "(-0.00946, 2.115]    181\n",
      "(2.115, 4.23]         10\n",
      "(6.345, 8.46]          1\n",
      "(4.23, 6.345]          0\n",
      "Name: Other_Sales, dtype: int64\n",
      "(4.681, 24.255]    177\n",
      "(24.255, 43.75]      9\n",
      "(63.245, 82.74]      1\n",
      "(43.75, 63.245]      0\n",
      "Name: Global_Sales, dtype: int64\n",
      "Grand Theft Auto V                 4\n",
      "Call of Duty: World at War         2\n",
      "Dr. Mario                          2\n",
      "Call of Duty: Black Ops 3          2\n",
      "Call of Duty: Black Ops II         2\n",
      "                                  ..\n",
      "Wii Party                          1\n",
      "Halo 2                             1\n",
      "Mario Party 8                      1\n",
      "Pokemon Black 2/Pokemon White 2    1\n",
      "Driver 2                           1\n",
      "Name: Name, Length: 167, dtype: int64\n",
      "PS3     31\n",
      "X360    30\n",
      "Wii     21\n",
      "DS      20\n",
      "PS      20\n",
      "GB      11\n",
      "PS4      9\n",
      "3DS      8\n",
      "N64      8\n",
      "GBA      7\n",
      "NES      7\n",
      "SNES     6\n",
      "PC       5\n",
      "PSP      4\n",
      "XOne     3\n",
      "GC       3\n",
      "XB       2\n",
      "WiiU     2\n",
      "2600     1\n",
      "GEN      1\n",
      "Name: Platform, dtype: int64\n",
      "Action          37\n",
      "Shooter         34\n",
      "Platform        30\n",
      "Role-Playing    28\n",
      "Sports          15\n",
      "Racing          14\n",
      "Misc            13\n",
      "Fighting         8\n",
      "Puzzle           7\n",
      "Simulation       7\n",
      "Adventure        3\n",
      "Strategy         3\n",
      "Name: Genre, dtype: int64\n",
      "Nintendo                                  83\n",
      "Activision                                23\n",
      "Sony Computer Entertainment               17\n",
      "Microsoft Game Studios                    15\n",
      "Electronic Arts                           12\n",
      "Take-Two Interactive                      10\n",
      "Ubisoft                                    9\n",
      "Bethesda Softworks                         4\n",
      "Capcom                                     4\n",
      "Sega                                       3\n",
      "Konami Digital Entertainment               2\n",
      "Warner Bros. Interactive Entertainment     2\n",
      "Virgin Interactive                         2\n",
      "LucasArts                                  2\n",
      "Eidos Interactive                          2\n",
      "505 Games                                  2\n",
      "SquareSoft                                 2\n",
      "Sony Computer Entertainment Europe         1\n",
      "GT Interactive                             1\n",
      "Square Enix                                1\n",
      "Atari                                      1\n",
      "Name: Publisher, dtype: int64\n"
     ]
    }
   ],
   "source": [
    "#Frequency Distribution\n",
    "\n",
    "f1= VideoGames['Rank'].value_counts(bins=4)\n",
    "\n",
    "f2=VideoGames['Year'].value_counts(bins=4)\n",
    "\n",
    "f3=VideoGames['NorthAmerica_Sales'].value_counts(bins=4)\n",
    "\n",
    "f4=VideoGames['EurpeanUnion_Sales'].value_counts(bins=4)\n",
    "\n",
    "f5=VideoGames['Japan_Sales'].value_counts(bins=4)\n",
    "\n",
    "f6=VideoGames['Other_Sales'].value_counts(bins=4)\n",
    "\n",
    "f7=VideoGames['Global_Sales'].value_counts(bins=4)\n",
    "\n",
    "f8=VideoGames['Name'].value_counts()\n",
    "\n",
    "f9=VideoGames['Platform'].value_counts()\n",
    "\n",
    "f10=VideoGames['Genre'].value_counts()\n",
    "\n",
    "f11=VideoGames['Publisher'].value_counts()\n",
    "\n",
    "print(f1)\n",
    "print(f2)\n",
    "print(f3)\n",
    "print(f4)\n",
    "print(f5)\n",
    "print(f6)\n",
    "print(f7)\n",
    "print(f8)\n",
    "print(f9)\n",
    "print(f10)\n",
    "print(f11)"
   ]
  },
  {
   "cell_type": "code",
   "execution_count": 12,
   "metadata": {},
   "outputs": [
    {
     "name": "stdout",
     "output_type": "stream",
     "text": [
      "(56.75, 112.5]     0.266332\n",
      "(0.776, 56.75]     0.256281\n",
      "(112.5, 168.25]    0.246231\n",
      "(168.25, 224.0]    0.231156\n",
      "Name: Rank, dtype: float64\n",
      "(2007.5, 2016.0]      0.497487\n",
      "(1999.0, 2007.5]      0.241206\n",
      "(1990.5, 1999.0]      0.201005\n",
      "(1981.965, 1990.5]    0.060302\n",
      "Name: Year, dtype: float64\n",
      "(-0.0425, 10.372]    0.874372\n",
      "(10.372, 20.745]     0.035176\n",
      "(20.745, 31.118]     0.015075\n",
      "(31.118, 41.49]      0.005025\n",
      "Name: NorthAmerica_Sales, dtype: float64\n",
      "(-0.030000000000000002, 7.255]    0.894472\n",
      "(7.255, 14.51]                    0.055276\n",
      "(21.765, 29.02]                   0.005025\n",
      "(14.51, 21.765]                   0.000000\n",
      "Name: EurpeanUnion_Sales, dtype: float64\n",
      "(-0.011200000000000002, 2.555]    0.763819\n",
      "(2.555, 5.11]                     0.140704\n",
      "(5.11, 7.665]                     0.040201\n",
      "(7.665, 10.22]                    0.005025\n",
      "Name: Japan_Sales, dtype: float64\n",
      "(-0.00946, 2.115]    0.909548\n",
      "(2.115, 4.23]        0.050251\n",
      "(6.345, 8.46]        0.005025\n",
      "(4.23, 6.345]        0.000000\n",
      "Name: Other_Sales, dtype: float64\n",
      "(4.681, 24.255]    0.889447\n",
      "(24.255, 43.75]    0.045226\n",
      "(63.245, 82.74]    0.005025\n",
      "(43.75, 63.245]    0.000000\n",
      "Name: Global_Sales, dtype: float64\n",
      "Grand Theft Auto V                 0.020101\n",
      "Call of Duty: World at War         0.010050\n",
      "Dr. Mario                          0.010050\n",
      "Call of Duty: Black Ops 3          0.010050\n",
      "Call of Duty: Black Ops II         0.010050\n",
      "                                     ...   \n",
      "Wii Party                          0.005025\n",
      "Halo 2                             0.005025\n",
      "Mario Party 8                      0.005025\n",
      "Pokemon Black 2/Pokemon White 2    0.005025\n",
      "Driver 2                           0.005025\n",
      "Name: Name, Length: 167, dtype: float64\n",
      "PS3     0.155779\n",
      "X360    0.150754\n",
      "Wii     0.105528\n",
      "DS      0.100503\n",
      "PS      0.100503\n",
      "GB      0.055276\n",
      "PS4     0.045226\n",
      "3DS     0.040201\n",
      "N64     0.040201\n",
      "GBA     0.035176\n",
      "NES     0.035176\n",
      "SNES    0.030151\n",
      "PC      0.025126\n",
      "PSP     0.020101\n",
      "XOne    0.015075\n",
      "GC      0.015075\n",
      "XB      0.010050\n",
      "WiiU    0.010050\n",
      "2600    0.005025\n",
      "GEN     0.005025\n",
      "Name: Platform, dtype: float64\n",
      "Action          0.185930\n",
      "Shooter         0.170854\n",
      "Platform        0.150754\n",
      "Role-Playing    0.140704\n",
      "Sports          0.075377\n",
      "Racing          0.070352\n",
      "Misc            0.065327\n",
      "Fighting        0.040201\n",
      "Puzzle          0.035176\n",
      "Simulation      0.035176\n",
      "Adventure       0.015075\n",
      "Strategy        0.015075\n",
      "Name: Genre, dtype: float64\n",
      "Nintendo                                  0.419192\n",
      "Activision                                0.116162\n",
      "Sony Computer Entertainment               0.085859\n",
      "Microsoft Game Studios                    0.075758\n",
      "Electronic Arts                           0.060606\n",
      "Take-Two Interactive                      0.050505\n",
      "Ubisoft                                   0.045455\n",
      "Bethesda Softworks                        0.020202\n",
      "Capcom                                    0.020202\n",
      "Sega                                      0.015152\n",
      "Konami Digital Entertainment              0.010101\n",
      "Warner Bros. Interactive Entertainment    0.010101\n",
      "Virgin Interactive                        0.010101\n",
      "LucasArts                                 0.010101\n",
      "Eidos Interactive                         0.010101\n",
      "505 Games                                 0.010101\n",
      "SquareSoft                                0.010101\n",
      "Sony Computer Entertainment Europe        0.005051\n",
      "GT Interactive                            0.005051\n",
      "Square Enix                               0.005051\n",
      "Atari                                     0.005051\n",
      "Name: Publisher, dtype: float64\n"
     ]
    }
   ],
   "source": [
    "# Relative Frequency\n",
    "r1= VideoGames['Rank'].value_counts(bins=4, normalize=True)\n",
    "\n",
    "r2=VideoGames['Year'].value_counts(bins=4, normalize=True)\n",
    "\n",
    "r3=VideoGames['NorthAmerica_Sales'].value_counts(bins=4, normalize=True)\n",
    "\n",
    "r4=VideoGames['EurpeanUnion_Sales'].value_counts(bins=4, normalize= True)\n",
    "\n",
    "r5=VideoGames['Japan_Sales'].value_counts(bins=4, normalize=True)\n",
    "\n",
    "r6=VideoGames['Other_Sales'].value_counts(bins=4, normalize=True)\n",
    "\n",
    "r7=VideoGames['Global_Sales'].value_counts(bins=4, normalize=True)\n",
    "\n",
    "r8=VideoGames['Name'].value_counts(normalize=True)\n",
    "\n",
    "r9=VideoGames['Platform'].value_counts(normalize=True)\n",
    "\n",
    "r10=VideoGames['Genre'].value_counts(normalize=True)\n",
    "\n",
    "r11=VideoGames['Publisher'].value_counts(normalize=True)\n",
    "\n",
    "print(r1)\n",
    "print(r2)\n",
    "print(r3)\n",
    "print(r4)\n",
    "print(r5)\n",
    "print(r6)\n",
    "print(r7)\n",
    "print(r8)\n",
    "print(r9)\n",
    "print(r10)\n",
    "print(r11)"
   ]
  },
  {
   "cell_type": "code",
   "execution_count": 14,
   "metadata": {},
   "outputs": [
    {
     "name": "stdout",
     "output_type": "stream",
     "text": [
      "(56.75, 112.5]     26.633166\n",
      "(0.776, 56.75]     25.628141\n",
      "(112.5, 168.25]    24.623116\n",
      "(168.25, 224.0]    23.115578\n",
      "Name: Rank, dtype: float64\n",
      "(2007.5, 2016.0]      49.748744\n",
      "(1999.0, 2007.5]      24.120603\n",
      "(1990.5, 1999.0]      20.100503\n",
      "(1981.965, 1990.5]     6.030151\n",
      "Name: Year, dtype: float64\n",
      "(-0.0425, 10.372]    87.437186\n",
      "(10.372, 20.745]      3.517588\n",
      "(20.745, 31.118]      1.507538\n",
      "(31.118, 41.49]       0.502513\n",
      "Name: NorthAmerica_Sales, dtype: float64\n",
      "(-0.030000000000000002, 7.255]    89.447236\n",
      "(7.255, 14.51]                     5.527638\n",
      "(21.765, 29.02]                    0.502513\n",
      "(14.51, 21.765]                    0.000000\n",
      "Name: EurpeanUnion_Sales, dtype: float64\n",
      "(-0.011200000000000002, 2.555]    76.381910\n",
      "(2.555, 5.11]                     14.070352\n",
      "(5.11, 7.665]                      4.020101\n",
      "(7.665, 10.22]                     0.502513\n",
      "Name: Japan_Sales, dtype: float64\n",
      "(-0.00946, 2.115]    90.954774\n",
      "(2.115, 4.23]         5.025126\n",
      "(6.345, 8.46]         0.502513\n",
      "(4.23, 6.345]         0.000000\n",
      "Name: Other_Sales, dtype: float64\n",
      "(4.681, 24.255]    88.944724\n",
      "(24.255, 43.75]     4.522613\n",
      "(63.245, 82.74]     0.502513\n",
      "(43.75, 63.245]     0.000000\n",
      "Name: Global_Sales, dtype: float64\n",
      "Grand Theft Auto V                 2.010050\n",
      "Call of Duty: World at War         1.005025\n",
      "Dr. Mario                          1.005025\n",
      "Call of Duty: Black Ops 3          1.005025\n",
      "Call of Duty: Black Ops II         1.005025\n",
      "                                     ...   \n",
      "Wii Party                          0.502513\n",
      "Halo 2                             0.502513\n",
      "Mario Party 8                      0.502513\n",
      "Pokemon Black 2/Pokemon White 2    0.502513\n",
      "Driver 2                           0.502513\n",
      "Name: Name, Length: 167, dtype: float64\n",
      "PS3     15.577889\n",
      "X360    15.075377\n",
      "Wii     10.552764\n",
      "DS      10.050251\n",
      "PS      10.050251\n",
      "GB       5.527638\n",
      "PS4      4.522613\n",
      "3DS      4.020101\n",
      "N64      4.020101\n",
      "GBA      3.517588\n",
      "NES      3.517588\n",
      "SNES     3.015075\n",
      "PC       2.512563\n",
      "PSP      2.010050\n",
      "XOne     1.507538\n",
      "GC       1.507538\n",
      "XB       1.005025\n",
      "WiiU     1.005025\n",
      "2600     0.502513\n",
      "GEN      0.502513\n",
      "Name: Platform, dtype: float64\n",
      "Action          18.592965\n",
      "Shooter         17.085427\n",
      "Platform        15.075377\n",
      "Role-Playing    14.070352\n",
      "Sports           7.537688\n",
      "Racing           7.035176\n",
      "Misc             6.532663\n",
      "Fighting         4.020101\n",
      "Puzzle           3.517588\n",
      "Simulation       3.517588\n",
      "Adventure        1.507538\n",
      "Strategy         1.507538\n",
      "Name: Genre, dtype: float64\n",
      "Nintendo                                  41.919192\n",
      "Activision                                11.616162\n",
      "Sony Computer Entertainment                8.585859\n",
      "Microsoft Game Studios                     7.575758\n",
      "Electronic Arts                            6.060606\n",
      "Take-Two Interactive                       5.050505\n",
      "Ubisoft                                    4.545455\n",
      "Bethesda Softworks                         2.020202\n",
      "Capcom                                     2.020202\n",
      "Sega                                       1.515152\n",
      "Konami Digital Entertainment               1.010101\n",
      "Warner Bros. Interactive Entertainment     1.010101\n",
      "Virgin Interactive                         1.010101\n",
      "LucasArts                                  1.010101\n",
      "Eidos Interactive                          1.010101\n",
      "505 Games                                  1.010101\n",
      "SquareSoft                                 1.010101\n",
      "Sony Computer Entertainment Europe         0.505051\n",
      "GT Interactive                             0.505051\n",
      "Square Enix                                0.505051\n",
      "Atari                                      0.505051\n",
      "Name: Publisher, dtype: float64\n"
     ]
    }
   ],
   "source": [
    "#Percentage Frequencies\n",
    "pf1=r1*100\n",
    "\n",
    "pf2=r2*100\n",
    "\n",
    "pf3=r3*100\n",
    "\n",
    "pf4=r4*100\n",
    "\n",
    "pf5=r5*100\n",
    "\n",
    "pf6=r6*100\n",
    "\n",
    "pf7=r7*100\n",
    "\n",
    "pf8=r8*100\n",
    "\n",
    "pf9=r9*100\n",
    "\n",
    "pf10=r10*100\n",
    "\n",
    "pf11=r11*100\n",
    "\n",
    "print(pf1)\n",
    "print(pf2)\n",
    "print(pf3)\n",
    "print(pf4)\n",
    "print(pf5)\n",
    "print(pf6)\n",
    "print(pf7)\n",
    "print(pf8)\n",
    "print(pf9)\n",
    "print(pf10)\n",
    "print(pf11)"
   ]
  },
  {
   "cell_type": "markdown",
   "metadata": {},
   "source": [
    "\n",
    "Data Visualization"
   ]
  },
  {
   "cell_type": "code",
   "execution_count": 24,
   "metadata": {},
   "outputs": [
    {
     "data": {
      "text/plain": [
       "<BarContainer object of 199 artists>"
      ]
     },
     "execution_count": 24,
     "metadata": {},
     "output_type": "execute_result"
    },
    {
     "data": {
      "image/png": "[encoded data removed]",
      "text/plain": [
       "<Figure size 432x288 with 1 Axes>"
      ]
     },
     "metadata": {
      "needs_background": "light"
     },
     "output_type": "display_data"
    }
   ],
   "source": [
    "#A barplot showing the global sales for different video game genres\n",
    "%matplotlib inline\n",
    "xpos=np.arange(len(VideoGames['Genre']))\n",
    "plt.yticks(xpos,VideoGames['Genre'])\n",
    "plt.xlabel(\"Global Sales\")\n",
    "plt.title('Globals video games sales per genre')\n",
    "plt.barh(VideoGames['Genre'],VideoGames['Global_Sales'])"
   ]
  },
  {
   "cell_type": "code",
   "execution_count": 27,
   "metadata": {},
   "outputs": [
    {
     "data": {
      "text/plain": [
       "<matplotlib.legend.Legend at 0x289edf00f70>"
      ]
     },
     "execution_count": 27,
     "metadata": {},
     "output_type": "execute_result"
    },
    {
     "data": {
      "image/png": "[encoded data removed]",
      "text/plain": [
       "<Figure size 432x288 with 1 Axes>"
      ]
     },
     "metadata": {
      "needs_background": "light"
     },
     "output_type": "display_data"
    }
   ],
   "source": [
    "# Horizontal bar graphs showing video games sales in North America and European Union\n",
    "%matplotlib inline\n",
    "xpos=np.arange(len(VideoGames['Genre']))\n",
    "plt.yticks(xpos,VideoGames['Genre'])\n",
    "plt.xlabel(\"Sales\")\n",
    "plt.title('Video games sales in North America and European Union States')\n",
    "plt.barh(VideoGames['Genre'],VideoGames['NorthAmerica_Sales'], label=\"NorthAmerica_Sales\")\n",
    "plt.barh(VideoGames['Genre'],VideoGames['EurpeanUnion_Sales'], label=\"EurpeanUnion_Sales\")\n",
    "plt.legend()"
   ]
  },
  {
   "cell_type": "code",
   "execution_count": 32,
   "metadata": {},
   "outputs": [],
   "source": [
    "VideoGames.dropna(axis=0, inplace=True)"
   ]
  },
  {
   "cell_type": "code",
   "execution_count": 54,
   "metadata": {},
   "outputs": [
    {
     "data": {
      "image/png": "[encoded data removed]",
      "text/plain": [
       "<Figure size 432x288 with 1 Axes>"
      ]
     },
     "metadata": {},
     "output_type": "display_data"
    }
   ],
   "source": [
    "#A pie chart showing global distribution of sales using different platforms\n",
    "sales_value=VideoGames['Japan_Sales'].head(10)\n",
    "genre=VideoGames['Genre'].head(10)\n",
    "plt.axis(\"equal\")\n",
    "plt.pie(sales_value, labels=genre,shadow=True, autopct='%1.1f%%', radius=1.5)\n",
    "plt.show()"
   ]
  },
  {
   "cell_type": "markdown",
   "metadata": {},
   "source": [
    "Calculating the mean, median, mode(s), variance and standard deviation for quantitative attributes"
   ]
  },
  {
   "cell_type": "code",
   "execution_count": 59,
   "metadata": {},
   "outputs": [
    {
     "name": "stdout",
     "output_type": "stream",
     "text": [
      "4.264733333333334\n",
      "3.1950000000000003\n",
      "3.66\n",
      "19.35709026222223\n",
      "4.399669335554915\n"
     ]
    }
   ],
   "source": [
    "import statistics as stats\n",
    "x=VideoGames['NorthAmerica_Sales']\n",
    "print(np.mean(x))\n",
    "print(np.median(x))\n",
    "print(stats.mode(x))\n",
    "print(np.var(x))\n",
    "print(np.std(x))"
   ]
  },
  {
   "cell_type": "code",
   "execution_count": 58,
   "metadata": {},
   "outputs": [
    {
     "name": "stdout",
     "output_type": "stream",
     "text": [
      "2.921\n",
      "2.15\n",
      "1.24\n",
      "8.190599666666667\n",
      "2.86192237257873\n"
     ]
    }
   ],
   "source": [
    "import statistics as stats\n",
    "x=VideoGames['EurpeanUnion_Sales']\n",
    "print(np.mean(x))\n",
    "print(np.median(x))\n",
    "print(stats.mode(x))\n",
    "print(np.var(x))\n",
    "print(np.std(x))"
   ]
  },
  {
   "cell_type": "code",
   "execution_count": 57,
   "metadata": {},
   "outputs": [
    {
     "name": "stdout",
     "output_type": "stream",
     "text": [
      "1.1839333333333335\n",
      "0.44\n",
      "0.0\n",
      "2.6529905288888886\n",
      "1.628800334261044\n"
     ]
    }
   ],
   "source": [
    "import statistics as stats\n",
    "x=VideoGames['Japan_Sales']\n",
    "print(np.mean(x))\n",
    "print(np.median(x))\n",
    "print(stats.mode(x))\n",
    "print(np.var(x))\n",
    "print(np.std(x))"
   ]
  },
  {
   "cell_type": "code",
   "execution_count": 56,
   "metadata": {},
   "outputs": [
    {
     "name": "stdout",
     "output_type": "stream",
     "text": [
      "0.8249333333333334\n",
      "0.635\n",
      "0.2\n",
      "0.7955529955555556\n",
      "0.8919377756074442\n"
     ]
    }
   ],
   "source": [
    "import statistics as stats\n",
    "x=VideoGames['Other_Sales']\n",
    "print(np.mean(x))\n",
    "print(np.median(x))\n",
    "print(stats.mode(x))\n",
    "print(np.var(x))\n",
    "print(np.std(x))"
   ]
  },
  {
   "cell_type": "code",
   "execution_count": 55,
   "metadata": {},
   "outputs": [
    {
     "name": "stdout",
     "output_type": "stream",
     "text": [
      "9.193933333333332\n",
      "6.725\n",
      "8.49\n",
      "67.0909878622222\n",
      "8.190908854469216\n"
     ]
    }
   ],
   "source": [
    "import statistics as stats\n",
    "x=VideoGames['Global_Sales']\n",
    "print(np.mean(x))\n",
    "print(np.median(x))\n",
    "print(stats.mode(x))\n",
    "print(np.var(x))\n",
    "print(np.std(x))"
   ]
  },
  {
   "cell_type": "markdown",
   "metadata": {},
   "source": [
    "Instances in the 1st, 2nd, and 3rd Standard Deviations for the quantitative columns"
   ]
  },
  {
   "cell_type": "code",
   "execution_count": 60,
   "metadata": {},
   "outputs": [
    {
     "name": "stdout",
     "output_type": "stream",
     "text": [
      "[-0.13493600222158086, 8.664402668888249]\n",
      "[-4.534605337776496, 13.064072004443164]\n",
      "[-8.93427467333141, 17.46374133999808]\n"
     ]
    }
   ],
   "source": [
    "Mean=np.mean(VideoGames['NorthAmerica_Sales'])\n",
    "SD=np.std(VideoGames['NorthAmerica_Sales'])\n",
    "\n",
    "x= [Mean - SD,Mean + SD] # 1st instances\n",
    "y= [Mean - 2*SD,Mean + 2*SD] # 2nd instances\n",
    "z= [Mean - 3*SD,Mean + 3*SD] # 3rd instances\n",
    "\n",
    "print(x)\n",
    "print(y)\n",
    "print(z)"
   ]
  },
  {
   "cell_type": "code",
   "execution_count": 61,
   "metadata": {},
   "outputs": [
    {
     "name": "stdout",
     "output_type": "stream",
     "text": [
      "[0.059077627421269874, 5.78292237257873]\n",
      "[-2.80284474515746, 8.64484474515746]\n",
      "[-5.66476711773619, 11.506767117736189]\n"
     ]
    }
   ],
   "source": [
    "Mean=np.mean(VideoGames['EurpeanUnion_Sales'])\n",
    "SD=np.std(VideoGames['EurpeanUnion_Sales'])\n",
    "\n",
    "x= [Mean - SD,Mean + SD] # 1st instances\n",
    "y= [Mean - 2*SD,Mean + 2*SD] # 2nd instances\n",
    "z= [Mean - 3*SD,Mean + 3*SD] # 3rd instances\n",
    "\n",
    "print(x)\n",
    "print(y)\n",
    "print(z)"
   ]
  },
  {
   "cell_type": "code",
   "execution_count": 62,
   "metadata": {},
   "outputs": [
    {
     "name": "stdout",
     "output_type": "stream",
     "text": [
      "[-0.4448670009277105, 2.8127336675943777]\n",
      "[-2.0736673351887545, 4.4415340018554215]\n",
      "[-3.7024676694497987, 6.070334336116465]\n"
     ]
    }
   ],
   "source": [
    "Mean=np.mean(VideoGames['Japan_Sales'])\n",
    "SD=np.std(VideoGames['Japan_Sales'])\n",
    "\n",
    "x= [Mean - SD,Mean + SD] # 1st instances\n",
    "y= [Mean - 2*SD,Mean + 2*SD] # 2nd instances\n",
    "z= [Mean - 3*SD,Mean + 3*SD] # 3rd instances\n",
    "\n",
    "print(x)\n",
    "print(y)\n",
    "print(z)"
   ]
  },
  {
   "cell_type": "code",
   "execution_count": 63,
   "metadata": {},
   "outputs": [
    {
     "name": "stdout",
     "output_type": "stream",
     "text": [
      "[-0.06700444227411084, 1.7168711089407775]\n",
      "[-0.9589422178815551, 2.608808884548222]\n",
      "[-1.850879993488999, 3.500746660155666]\n"
     ]
    }
   ],
   "source": [
    "Mean=np.mean(VideoGames['Other_Sales'])\n",
    "SD=np.std(VideoGames['Other_Sales'])\n",
    "\n",
    "x= [Mean - SD,Mean + SD] # 1st instances\n",
    "y= [Mean - 2*SD,Mean + 2*SD] # 2nd instances\n",
    "z= [Mean - 3*SD,Mean + 3*SD] # 3rd instances\n",
    "\n",
    "print(x)\n",
    "print(y)\n",
    "print(z)"
   ]
  },
  {
   "cell_type": "code",
   "execution_count": 64,
   "metadata": {},
   "outputs": [
    {
     "name": "stdout",
     "output_type": "stream",
     "text": [
      "[1.0030244788641163, 17.384842187802548]\n",
      "[-7.187884375605099, 25.57575104227176]\n",
      "[-15.378793230074317, 33.76665989674098]\n"
     ]
    }
   ],
   "source": [
    "Mean=np.mean(VideoGames['Global_Sales'])\n",
    "SD=np.std(VideoGames['Global_Sales'])\n",
    "\n",
    "x= [Mean - SD,Mean + SD] # 1st instances\n",
    "y= [Mean - 2*SD,Mean + 2*SD] # 2nd instances\n",
    "z= [Mean - 3*SD,Mean + 3*SD] # 3rd instances\n",
    "\n",
    "print(x)\n",
    "print(y)\n",
    "print(z)"
   ]
  },
  {
   "cell_type": "markdown",
   "metadata": {},
   "source": [
    "\n",
    "Modes for the categorical attribute Outcome"
   ]
  },
  {
   "cell_type": "code",
   "execution_count": 65,
   "metadata": {},
   "outputs": [
    {
     "name": "stdout",
     "output_type": "stream",
     "text": [
      "Action\n",
      "Nintendo\n",
      "PS3\n",
      "Grand Theft Auto V\n"
     ]
    }
   ],
   "source": [
    "\n",
    "print(stats.mode(VideoGames['Genre']))\n",
    "print(stats.mode(VideoGames['Publisher']))\n",
    "print(stats.mode(VideoGames['Platform']))\n",
    "print(stats.mode(VideoGames['Name']))"
   ]
  },
  {
   "cell_type": "markdown",
   "metadata": {},
   "source": [
    "\n",
    "These are the insights obtained from the analysis\n",
    "\n",
    "In the sales of video games, action genre was the most sold.\n",
    "\n",
    "The publisher that did many sales was the Nintendo Publishers.\n",
    "\n",
    "PS3 was the frequently used platform for playing the games,\n",
    "\n",
    "The name that appeared most frequently was the Grand Theft Auto V\n",
    "\n",
    "Sports genre was the most sold video games in North America and European union."
   ]
  }
 ],
 "metadata": {
  "interpreter": {
   "hash": "ac59ebe37160ed0dfa835113d9b8498d9f09ceb179beaac4002f036b9467c963"
  },
  "kernelspec": {
   "display_name": "Python 3.9.0 64-bit",
   "language": "python",
   "name": "python3"
  },
  "language_info": {
   "codemirror_mode": {
    "name": "ipython",
    "version": 3
   },
   "file_extension": ".py",
   "mimetype": "text/x-python",
   "name": "python",
   "nbconvert_exporter": "python",
   "pygments_lexer": "ipython3",
   "version": "3.9.0"
  },
  "orig_nbformat": 4
 },
 "nbformat": 4,
 "nbformat_minor": 2
}
